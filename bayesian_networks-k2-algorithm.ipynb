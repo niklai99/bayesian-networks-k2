{
 "cells": [
  {
   "cell_type": "code",
   "execution_count": 3,
   "metadata": {
    "vscode": {
     "languageId": "r"
    }
   },
   "outputs": [],
   "source": [
    "library(rlang)\n",
    "library(dplyr)\n",
    "library(comprehenr)\n",
    "library(bnlearn)\n",
    "library(bnstruct)\n",
    "library(Rgraphviz)"
   ]
  },
  {
   "cell_type": "code",
   "execution_count": 2,
   "metadata": {
    "vscode": {
     "languageId": "r"
    }
   },
   "outputs": [],
   "source": [
    "#install.packages(\"BiocManager\")\n",
    "#BiocManager::install(\"Rgraphviz\")"
   ]
  },
  {
   "cell_type": "markdown",
   "metadata": {},
   "source": [
    "## Simple test dataset"
   ]
  },
  {
   "cell_type": "code",
   "execution_count": 92,
   "metadata": {
    "vscode": {
     "languageId": "r"
    }
   },
   "outputs": [],
   "source": [
    "x1 = c(1,1,0,1,0,0,1,0,1,0)\n",
    "x2 = c(0,1,0,1,0,1,1,0,1,0)\n",
    "x3 = c(0,1,1,1,0,1,1,0,1,0)\n",
    "df = data.frame(x1, x2, x3)"
   ]
  },
  {
   "cell_type": "code",
   "execution_count": 93,
   "metadata": {
    "vscode": {
     "languageId": "r"
    }
   },
   "outputs": [
    {
     "data": {
      "text/html": [
       "<table class=\"dataframe\">\n",
       "<caption>A data.frame: 10 × 3</caption>\n",
       "<thead>\n",
       "\t<tr><th scope=col>x1</th><th scope=col>x2</th><th scope=col>x3</th></tr>\n",
       "\t<tr><th scope=col>&lt;dbl&gt;</th><th scope=col>&lt;dbl&gt;</th><th scope=col>&lt;dbl&gt;</th></tr>\n",
       "</thead>\n",
       "<tbody>\n",
       "\t<tr><td>1</td><td>0</td><td>0</td></tr>\n",
       "\t<tr><td>1</td><td>1</td><td>1</td></tr>\n",
       "\t<tr><td>0</td><td>0</td><td>1</td></tr>\n",
       "\t<tr><td>1</td><td>1</td><td>1</td></tr>\n",
       "\t<tr><td>0</td><td>0</td><td>0</td></tr>\n",
       "\t<tr><td>0</td><td>1</td><td>1</td></tr>\n",
       "\t<tr><td>1</td><td>1</td><td>1</td></tr>\n",
       "\t<tr><td>0</td><td>0</td><td>0</td></tr>\n",
       "\t<tr><td>1</td><td>1</td><td>1</td></tr>\n",
       "\t<tr><td>0</td><td>0</td><td>0</td></tr>\n",
       "</tbody>\n",
       "</table>\n"
      ],
      "text/latex": [
       "A data.frame: 10 × 3\n",
       "\\begin{tabular}{lll}\n",
       " x1 & x2 & x3\\\\\n",
       " <dbl> & <dbl> & <dbl>\\\\\n",
       "\\hline\n",
       "\t 1 & 0 & 0\\\\\n",
       "\t 1 & 1 & 1\\\\\n",
       "\t 0 & 0 & 1\\\\\n",
       "\t 1 & 1 & 1\\\\\n",
       "\t 0 & 0 & 0\\\\\n",
       "\t 0 & 1 & 1\\\\\n",
       "\t 1 & 1 & 1\\\\\n",
       "\t 0 & 0 & 0\\\\\n",
       "\t 1 & 1 & 1\\\\\n",
       "\t 0 & 0 & 0\\\\\n",
       "\\end{tabular}\n"
      ],
      "text/markdown": [
       "\n",
       "A data.frame: 10 × 3\n",
       "\n",
       "| x1 &lt;dbl&gt; | x2 &lt;dbl&gt; | x3 &lt;dbl&gt; |\n",
       "|---|---|---|\n",
       "| 1 | 0 | 0 |\n",
       "| 1 | 1 | 1 |\n",
       "| 0 | 0 | 1 |\n",
       "| 1 | 1 | 1 |\n",
       "| 0 | 0 | 0 |\n",
       "| 0 | 1 | 1 |\n",
       "| 1 | 1 | 1 |\n",
       "| 0 | 0 | 0 |\n",
       "| 1 | 1 | 1 |\n",
       "| 0 | 0 | 0 |\n",
       "\n"
      ],
      "text/plain": [
       "   x1 x2 x3\n",
       "1  1  0  0 \n",
       "2  1  1  1 \n",
       "3  0  0  1 \n",
       "4  1  1  1 \n",
       "5  0  0  0 \n",
       "6  0  1  1 \n",
       "7  1  1  1 \n",
       "8  0  0  0 \n",
       "9  1  1  1 \n",
       "10 0  0  0 "
      ]
     },
     "metadata": {},
     "output_type": "display_data"
    }
   ],
   "source": [
    "df"
   ]
  },
  {
   "cell_type": "code",
   "execution_count": 6,
   "metadata": {
    "vscode": {
     "languageId": "r"
    }
   },
   "outputs": [],
   "source": [
    "# compute all possible instantiations\n",
    "inst = lapply(df, n_distinct)\n",
    "r    = c(inst$x1,inst$x2, inst$x3)"
   ]
  },
  {
   "cell_type": "markdown",
   "metadata": {},
   "source": [
    "## K2 algorithm"
   ]
  },
  {
   "cell_type": "markdown",
   "metadata": {},
   "source": [
    "### Useful functions"
   ]
  },
  {
   "cell_type": "code",
   "execution_count": 69,
   "metadata": {
    "vscode": {
     "languageId": "r"
    }
   },
   "outputs": [],
   "source": [
    "log_f_i_ = function(alpha, r_i){\n",
    "    N_i_ = sum(alpha)\n",
    "    return(\n",
    "            sum(ifelse((r_i-1)==0, 0, sapply(1:(r_i-1),log)))- \n",
    "            sum(sapply(1:(N_i_+r_i-1),log)) + \n",
    "            sum(sapply(alpha, function(a_k){\n",
    "                                    sum(ifelse(a_k==0, 0, sapply(1:(a_k),log)))\n",
    "                               }\n",
    "                )\n",
    "            )\n",
    "    )\n",
    "}\n",
    "log_f_ij = function(alpha, r_i){\n",
    "    N_ij = rowSums(alpha)\n",
    "    return(\n",
    "            sum(sapply(1:length(N_ij), function(j){ \n",
    "                                            sum(ifelse((r_i-1)==0, 0, sapply(1:(r_i-1), log))) - \n",
    "                                            sum(sapply(1:(N_ij[j]+r_i-1), log)) + \n",
    "                                            sum(sapply(alpha[j, ], function(a_k){\n",
    "                                                                        ifelse(a_k==0, 0, sum(sapply(1:(a_k),log)))\n",
    "                                                                    }\n",
    "                                                )\n",
    "                                            )\n",
    "                                        }\n",
    "                )\n",
    "            )\n",
    "    )\n",
    "}"
   ]
  },
  {
   "cell_type": "code",
   "execution_count": 70,
   "metadata": {
    "vscode": {
     "languageId": "r"
    }
   },
   "outputs": [],
   "source": [
    "# compute eq 20 (log)\n",
    "log_f = function(i, parents_i, r_i, df){\n",
    "    # take care of step zero\n",
    "    if(length(parents_i)==0){\n",
    "        alpha = table(df[i])\n",
    "        return(log_f_i_(alpha, r_i))\n",
    "    }else{\n",
    "        alpha = table(df[c(parents_i, i)])\n",
    "        dim(alpha) = c(length(alpha)/r_i, r_i)\n",
    "        return(log_f_ij(alpha, r_i))\n",
    "    }\n",
    "}"
   ]
  },
  {
   "cell_type": "code",
   "execution_count": 71,
   "metadata": {
    "vscode": {
     "languageId": "r"
    }
   },
   "outputs": [],
   "source": [
    "# compute new parent that maximizes log_f\n",
    "best_new_parent = function(i, parents_i, pred_i, r_i, df){\n",
    "    best_score = -Inf\n",
    "    if(length(pred_i)==1){\n",
    "        return(pred_i)\n",
    "    }else{\n",
    "        z_list = setdiff(pred_i, parents_i)\n",
    "        for(z in z_list){\n",
    "            score = log_f(i, c(parents_i, z), r_i, df)\n",
    "            if(score > best_score){\n",
    "                best_score = score\n",
    "                best_z = z\n",
    "            }\n",
    "        }\n",
    "        return(best_z)\n",
    "    }\n",
    "}"
   ]
  },
  {
   "cell_type": "markdown",
   "metadata": {},
   "source": [
    "### Implementation & test"
   ]
  },
  {
   "cell_type": "code",
   "execution_count": 10,
   "metadata": {
    "vscode": {
     "languageId": "r"
    }
   },
   "outputs": [],
   "source": [
    "n = 3\n",
    "u = 2"
   ]
  },
  {
   "cell_type": "code",
   "execution_count": 11,
   "metadata": {
    "vscode": {
     "languageId": "r"
    }
   },
   "outputs": [
    {
     "name": "stdout",
     "output_type": "stream",
     "text": [
      "node:  x1 \n",
      "\t log p_old:  -7.927324 \n",
      "\t-> parents:   \n",
      "node:  x2 \n",
      "\t log p_old:  -7.927324 \n",
      "\t considering parent:  x1 \n",
      "\t\t log p_new:  -6.802395 \n",
      "\t\t accepted \n",
      "\t-> parents:  x1 \n",
      "node:  x3 \n",
      "\t log p_old:  -7.745003 \n",
      "\t considering parent:  x2 \n",
      "\t\t log p_new:  -5.192957 \n",
      "\t\t accepted \n",
      "\t considering parent:  x1 \n",
      "\t\t log p_new:  -5.991465 \n",
      "\t\t refused \n",
      "\t-> parents:  x2 \n"
     ]
    }
   ],
   "source": [
    "# k2 algorithm - high level implementation\n",
    "## df has to be ordered!\n",
    "b_s = empty.graph(nodes=colnames(df))\n",
    "for (i in 1:n){\n",
    "    cat(\"node: \", colnames(df)[i], \"\\n\")\n",
    "    parents_i = vector()\n",
    "    p_old = log_f(i, parents_i, r[i], df) # compute equation 20\n",
    "    cat(\"\\t log p_old: \", p_old, \"\\n\")\n",
    "    ok_to_proceed = ifelse(i==1, FALSE, TRUE)\n",
    "    pred_i = seq(1, i-1)\n",
    "    while (ok_to_proceed && length(parents_i)<u && length(pred_i)-length(parents_i)>0){\n",
    "        z = best_new_parent(i, parents_i, pred_i, r[i], df)\n",
    "        cat(\"\\t considering parent: \", colnames(df)[z], \"\\n\")\n",
    "        p_new = log_f(i, c(parents_i, z), r[i], df)\n",
    "        cat(\"\\t\\t log p_new: \", p_new, \"\\n\")\n",
    "        if (p_new>p_old){\n",
    "            p_old = p_new\n",
    "            parents_i = c(parents_i, z)\n",
    "            b_s = set.arc(b_s, from=colnames(df)[z], to=colnames(df)[i])\n",
    "            cat(\"\\t\\t accepted \\n\")\n",
    "        }else{\n",
    "            ok_to_proceed = FALSE\n",
    "            cat(\"\\t\\t refused \\n\")\n",
    "        }\n",
    "    }\n",
    "    cat(\"\\t-> parents: \", colnames(df)[parents_i], \"\\n\")\n",
    "}"
   ]
  },
  {
   "cell_type": "code",
   "execution_count": 12,
   "metadata": {
    "vscode": {
     "languageId": "r"
    }
   },
   "outputs": [
    {
     "name": "stdout",
     "output_type": "stream",
     "text": [
      "\n",
      "  Bayesian network parameters\n",
      "\n",
      "  Parameters of node x1 (multinomial distribution)\n",
      "\n",
      "Conditional probability table:\n",
      "   0   1 \n",
      "0.5 0.5 \n",
      "\n",
      "  Parameters of node x2 (multinomial distribution)\n",
      "\n",
      "Conditional probability table:\n",
      " \n",
      "   x1\n",
      "x2          0         1\n",
      "  0 0.7727273 0.2272727\n",
      "  1 0.2272727 0.7727273\n",
      "\n",
      "  Parameters of node x3 (multinomial distribution)\n",
      "\n",
      "Conditional probability table:\n",
      " \n",
      "   x2\n",
      "x3           0          1\n",
      "  0 0.77272727 0.04545455\n",
      "  1 0.22727273 0.95454545\n",
      "\n"
     ]
    },
    {
     "data": {
      "image/png": "[encoded data removed]",
      "text/plain": [
       "plot without title"
      ]
     },
     "metadata": {
      "image/png": {
       "height": 420,
       "width": 420
      }
     },
     "output_type": "display_data"
    }
   ],
   "source": [
    "graphviz.plot(b_s)\n",
    "df_discrete = data.frame(apply(df, c(1,2), as.character), stringsAsFactors=TRUE)\n",
    "b_p = bn.fit(b_s, data=df_discrete, method='bayes')\n",
    "print(b_p)"
   ]
  },
  {
   "cell_type": "code",
   "execution_count": 14,
   "metadata": {
    "vscode": {
     "languageId": "r"
    }
   },
   "outputs": [
    {
     "data": {
      "image/png": "[encoded data removed]",
      "text/plain": [
       "plot without title"
      ]
     },
     "metadata": {
      "image/png": {
       "height": 420,
       "width": 420
      }
     },
     "output_type": "display_data"
    }
   ],
   "source": [
    "bn.fit.barchart(b_p$x2, main=\"x2\", xlab=\"p(x2|x1)\", ylab=\"x1\")"
   ]
  },
  {
   "cell_type": "markdown",
   "metadata": {},
   "source": [
    "## Create K2 algo function and compute K2 score"
   ]
  },
  {
   "cell_type": "code",
   "execution_count": 66,
   "metadata": {
    "vscode": {
     "languageId": "r"
    }
   },
   "outputs": [],
   "source": [
    "K2 = function(df, u=length(colnames(df))-1, verbose=TRUE, vis=TRUE){\n",
    "    ###################### K2 algorithm ( df has to be ordered! ) ######################\n",
    "    # compute all possible instantiations\n",
    "    inst = lapply(df, n_distinct)\n",
    "    r    = to_vec(for (i in 1:length(inst)) inst[[i]])\n",
    "    # define empty dag\n",
    "    b_s = empty.graph(nodes=colnames(df))\n",
    "    # K2 score\n",
    "    k2_score = 0\n",
    "    # compute parents for each node\n",
    "    for (i in 1:length(colnames(df))){\n",
    "        if (verbose) cat(\"node: \", colnames(df)[i], \"\\n\")\n",
    "        parents_i = vector()\n",
    "        p_old = log_f(i, parents_i, r[i], df) # compute equation 20\n",
    "        if (verbose) cat(\"\\t log p_old: \", p_old, \"\\n\")\n",
    "        ok_to_proceed = ifelse(i==1, FALSE, TRUE)\n",
    "        pred_i = seq(1, i-1)\n",
    "        while (ok_to_proceed && length(parents_i)<u && length(pred_i)-length(parents_i)>0){\n",
    "            z = best_new_parent(i, parents_i, pred_i, r[i], df)\n",
    "            if (verbose) cat(\"\\t considering parent: \", colnames(df)[z], \"\\n\")\n",
    "            p_new = log_f(i, c(parents_i, z), r[i], df)\n",
    "            if (verbose) cat(\"\\t\\t log p_new: \", p_new, \"\\n\")\n",
    "            if (p_new>p_old){\n",
    "                p_old = p_new\n",
    "                parents_i = c(parents_i, z)\n",
    "                b_s = set.arc(b_s, from=colnames(df)[z], to=colnames(df)[i])\n",
    "                if (verbose) cat(\"\\t\\t accepted \\n\")\n",
    "            }else{\n",
    "                ok_to_proceed = FALSE\n",
    "                if (verbose) cat(\"\\t\\t refused \\n\")\n",
    "            }\n",
    "        }\n",
    "        k2_score = k2_score + p_old\n",
    "        if (verbose) cat(\"\\t-> parents: \", colnames(df)[parents_i], \"\\n\")\n",
    "    }\n",
    "    if (verbose) cat(\"K2 score: \", k2_score, \"\\n\")\n",
    "    if (vis) graphviz.plot(b_s)\n",
    "    return(b_s)\n",
    "}"
   ]
  },
  {
   "cell_type": "code",
   "execution_count": null,
   "metadata": {
    "vscode": {
     "languageId": "r"
    }
   },
   "outputs": [],
   "source": [
    "K2 = function(df, u=length(colnames(df))-1, verbose=TRUE, vis=TRUE){\n",
    "    ###################### K2 algorithm ( df has to be ordered! ) ######################\n",
    "    # compute all possible instantiations\n",
    "    inst = lapply(df, n_distinct)\n",
    "    r    = to_vec(for (i in 1:length(inst)) inst[[i]])\n",
    "    # define empty dag\n",
    "    b_s = empty.graph(nodes=colnames(df))\n",
    "    # K2 score\n",
    "    k2_score = 0\n",
    "    # compute parents for each node\n",
    "    for (i in 1:length(colnames(df))){\n",
    "        parents_i = vector()\n",
    "        p_old = log_f(i, parents_i, r[i], df) # compute equation 20\n",
    "        ok_to_proceed = ifelse(i==1, FALSE, TRUE) # if i==1, then no parents are possible\n",
    "        pred_i = seq(1, i-1)\n",
    "        while (ok_to_proceed && length(parents_i)<u && length(pred_i)-length(parents_i)>0){\n",
    "            z = best_new_parent(i, parents_i, pred_i, r[i], df)\n",
    "            p_new = log_f(i, c(parents_i, z), r[i], df)\n",
    "            if (p_new>p_old){\n",
    "                p_old = p_new\n",
    "                parents_i = c(parents_i, z)\n",
    "                b_s = set.arc(b_s, from=colnames(df)[z], to=colnames(df)[i])\n",
    "            }else{\n",
    "                ok_to_proceed = FALSE\n",
    "            }\n",
    "        }\n",
    "        k2_score = k2_score + p_old\n",
    "    }\n",
    "    return(b_s)\n",
    "}"
   ]
  },
  {
   "cell_type": "code",
   "execution_count": 71,
   "metadata": {
    "vscode": {
     "languageId": "r"
    }
   },
   "outputs": [
    {
     "name": "stdout",
     "output_type": "stream",
     "text": [
      "2 2 2 2 2 \n",
      "node:  x1 \n",
      "\t log p_old:  -7.927324 \n",
      "\t-> parents:   \n",
      "node:  x2 \n",
      "\t log p_old:  -7.927324 \n",
      "\t considering parent:  x1 \n",
      "\t\t log p_new:  -6.802395 \n",
      "\t\t accepted \n",
      "\t-> parents:  x1 \n",
      "node:  x3 \n",
      "\t log p_old:  -7.745003 \n",
      "\t considering parent:  x2 \n",
      "\t\t log p_new:  -5.192957 \n",
      "\t\t accepted \n",
      "\t considering parent:  x1 \n",
      "\t\t log p_new:  -5.991465 \n",
      "\t\t refused \n",
      "\t-> parents:  x2 \n",
      "K2 score:  -19.92268 \n"
     ]
    },
    {
     "data": {
      "image/png": "[encoded data removed]",
      "text/plain": [
       "plot without title"
      ]
     },
     "metadata": {
      "image/png": {
       "height": 420,
       "width": 420
      }
     },
     "output_type": "display_data"
    }
   ],
   "source": [
    "b_s = K2(df)"
   ]
  },
  {
   "cell_type": "markdown",
   "metadata": {},
   "source": [
    "## Test on earthquake dataset"
   ]
  },
  {
   "cell_type": "code",
   "execution_count": 26,
   "metadata": {
    "vscode": {
     "languageId": "r"
    }
   },
   "outputs": [],
   "source": [
    "eq_df = read.csv(\"./earthquake.csv\")"
   ]
  },
  {
   "cell_type": "code",
   "execution_count": 72,
   "metadata": {
    "vscode": {
     "languageId": "r"
    }
   },
   "outputs": [
    {
     "name": "stdout",
     "output_type": "stream",
     "text": [
      "2 2 2 2 2 \n",
      "node:  Burglary \n",
      "\t log p_old:  -55407.01 \n",
      "\t-> parents:   \n",
      "node:  Earthquake \n",
      "\t log p_old:  -97992.58 \n",
      "\t considering parent:  Burglary \n",
      "\t\t log p_new:  -97998.2 \n",
      "\t\t refused \n",
      "\t-> parents:   \n",
      "node:  Alarm \n",
      "\t log p_old:  -81856.62 \n",
      "\t considering parent:  Burglary \n",
      "\t\t log p_new:  -42661.52 \n",
      "\t\t accepted \n",
      "\t considering parent:  Earthquake \n",
      "\t\t log p_new:  -21896.44 \n",
      "\t\t accepted \n",
      "\t-> parents:  Burglary Earthquake \n",
      "node:  JohnCalls \n",
      "\t log p_old:  -237665 \n",
      "\t considering parent:  Alarm \n",
      "\t\t log p_new:  -201849.2 \n",
      "\t\t accepted \n",
      "\t considering parent:  Earthquake \n",
      "\t\t log p_new:  -201854.2 \n",
      "\t\t refused \n",
      "\t-> parents:  Alarm \n",
      "node:  MaryCalls \n",
      "\t log p_old:  -101706.2 \n",
      "\t considering parent:  Alarm \n",
      "\t\t log p_new:  -64487.94 \n",
      "\t\t accepted \n",
      "\t considering parent:  Burglary \n",
      "\t\t log p_new:  -64496.56 \n",
      "\t\t refused \n",
      "\t-> parents:  Alarm \n",
      "K2 score:  -441633.1 \n"
     ]
    },
    {
     "data": {
      "image/png": "[encoded data removed]",
      "text/plain": [
       "plot without title"
      ]
     },
     "metadata": {
      "image/png": {
       "height": 420,
       "width": 420
      }
     },
     "output_type": "display_data"
    }
   ],
   "source": [
    "b_s_eq = K2(eq_df)"
   ]
  },
  {
   "cell_type": "markdown",
   "metadata": {},
   "source": [
    "## Test on child dataset"
   ]
  },
  {
   "cell_type": "code",
   "execution_count": 73,
   "metadata": {
    "vscode": {
     "languageId": "r"
    }
   },
   "outputs": [],
   "source": [
    "child_df = read.csv(\"./child.csv\")"
   ]
  },
  {
   "cell_type": "code",
   "execution_count": 89,
   "metadata": {
    "vscode": {
     "languageId": "r"
    }
   },
   "outputs": [],
   "source": [
    "child_df = child_df[, c(1, 12, 20, 16, 17, 18, 19, 15, 14, 6, 2, 3, 4, 5, 7, 13, 8, 9, 10, 11)]"
   ]
  },
  {
   "cell_type": "code",
   "execution_count": 91,
   "metadata": {
    "vscode": {
     "languageId": "r"
    }
   },
   "outputs": [
    {
     "name": "stdout",
     "output_type": "stream",
     "text": [
      "2 6 2 3 4 3 3 2 3 2 2 3 3 5 2 2 3 3 2 5 \n",
      "node:  BirthAsphyxia \n",
      "\t log p_old:  -16233.46 \n",
      "\t-> parents:   \n",
      "node:  Disease \n",
      "\t log p_old:  -75586.01 \n",
      "\t considering parent:  BirthAsphyxia \n",
      "\t\t log p_new:  -74710.24 \n",
      "\t\t accepted \n",
      "\t-> parents:  BirthAsphyxia \n",
      "node:  Sick \n",
      "\t log p_old:  -31132.5 \n",
      "\t considering parent:  Disease \n",
      "\t\t log p_new:  -28976.88 \n",
      "\t\t accepted \n",
      "\t considering parent:  BirthAsphyxia \n",
      "\t\t log p_new:  -28994.2 \n",
      "\t\t refused \n",
      "\t-> parents:  Disease \n",
      "node:  DuctFlow \n",
      "\t log p_old:  -47477.14 \n",
      "\t considering parent:  Disease \n",
      "\t\t log p_new:  -24910.92 \n",
      "\t\t accepted \n",
      "\t considering parent:  BirthAsphyxia \n",
      "\t\t log p_new:  -24955.29 \n",
      "\t\t refused \n",
      "\t-> parents:  Disease \n",
      "node:  CardiacMixing \n",
      "\t log p_old:  -55934.6 \n",
      "\t considering parent:  Disease \n",
      "\t\t log p_new:  -29179.36 \n",
      "\t\t accepted \n",
      "\t considering parent:  BirthAsphyxia \n",
      "\t\t log p_new:  -29240.05 \n",
      "\t\t refused \n",
      "\t-> parents:  Disease \n",
      "node:  LungParench \n",
      "\t log p_old:  -38686.34 \n",
      "\t considering parent:  Disease \n",
      "\t\t log p_new:  -32112.95 \n",
      "\t\t accepted \n",
      "\t considering parent:  BirthAsphyxia \n",
      "\t\t log p_new:  -32150 \n",
      "\t\t refused \n",
      "\t-> parents:  Disease \n",
      "node:  LungFlow \n",
      "\t log p_old:  -51827.96 \n",
      "\t considering parent:  Disease \n",
      "\t\t log p_new:  -32567.9 \n",
      "\t\t accepted \n",
      "\t considering parent:  BirthAsphyxia \n",
      "\t\t log p_new:  -32602.2 \n",
      "\t\t refused \n",
      "\t-> parents:  Disease \n",
      "node:  LVH \n",
      "\t log p_old:  -29530.3 \n",
      "\t considering parent:  Disease \n",
      "\t\t log p_new:  -15979.45 \n",
      "\t\t accepted \n",
      "\t considering parent:  BirthAsphyxia \n",
      "\t\t log p_new:  -15997.37 \n",
      "\t\t refused \n",
      "\t-> parents:  Disease \n",
      "node:  Age \n",
      "\t log p_old:  -44234.94 \n",
      "\t considering parent:  Disease \n",
      "\t\t log p_new:  -38410.4 \n",
      "\t\t accepted \n",
      "\t considering parent:  Sick \n",
      "\t\t log p_new:  -37293.49 \n",
      "\t\t accepted \n",
      "\t considering parent:  LVH \n",
      "\t\t log p_new:  -37355.86 \n",
      "\t\t refused \n",
      "\t-> parents:  Disease Sick \n",
      "node:  Grunting \n",
      "\t log p_old:  -26584.17 \n",
      "\t considering parent:  LungParench \n",
      "\t\t log p_new:  -19942.08 \n",
      "\t\t accepted \n",
      "\t considering parent:  Sick \n",
      "\t\t log p_new:  -18798.57 \n",
      "\t\t accepted \n",
      "\t considering parent:  BirthAsphyxia \n",
      "\t\t log p_new:  -18812.93 \n",
      "\t\t refused \n",
      "\t-> parents:  LungParench Sick \n",
      "node:  HypDistrib \n",
      "\t log p_old:  -15867.43 \n",
      "\t considering parent:  DuctFlow \n",
      "\t\t log p_new:  -12322.09 \n",
      "\t\t accepted \n",
      "\t considering parent:  CardiacMixing \n",
      "\t\t log p_new:  -11111.26 \n",
      "\t\t accepted \n",
      "\t considering parent:  BirthAsphyxia \n",
      "\t\t log p_new:  -11144.47 \n",
      "\t\t refused \n",
      "\t-> parents:  DuctFlow CardiacMixing \n",
      "node:  HypoxiaInO2 \n",
      "\t log p_old:  -47691.86 \n",
      "\t considering parent:  CardiacMixing \n",
      "\t\t log p_new:  -37537.3 \n",
      "\t\t accepted \n",
      "\t considering parent:  LungParench \n",
      "\t\t log p_new:  -36434.9 \n",
      "\t\t accepted \n",
      "\t considering parent:  HypDistrib \n",
      "\t\t log p_new:  -36493.79 \n",
      "\t\t refused \n",
      "\t-> parents:  CardiacMixing LungParench \n",
      "node:  CO2 \n",
      "\t log p_old:  -38608.35 \n",
      "\t considering parent:  LungParench \n",
      "\t\t log p_new:  -34934.01 \n",
      "\t\t accepted \n",
      "\t considering parent:  HypDistrib \n",
      "\t\t log p_new:  -34954.48 \n",
      "\t\t refused \n",
      "\t-> parents:  LungParench \n",
      "node:  ChestXray \n",
      "\t log p_old:  -75684.6 \n",
      "\t considering parent:  LungFlow \n",
      "\t\t log p_new:  -56104.82 \n",
      "\t\t accepted \n",
      "\t considering parent:  LungParench \n",
      "\t\t log p_new:  -38929.19 \n",
      "\t\t accepted \n",
      "\t considering parent:  BirthAsphyxia \n",
      "\t\t log p_new:  -39035.96 \n",
      "\t\t refused \n",
      "\t-> parents:  LungFlow LungParench \n",
      "node:  LVHreport \n",
      "\t log p_old:  -30010.16 \n",
      "\t considering parent:  LVH \n",
      "\t\t log p_new:  -11812.42 \n",
      "\t\t accepted \n",
      "\t considering parent:  BirthAsphyxia \n",
      "\t\t log p_new:  -11818.13 \n",
      "\t\t refused \n",
      "\t-> parents:  LVH \n",
      "node:  GruntingReport \n",
      "\t log p_old:  -28572.04 \n",
      "\t considering parent:  Grunting \n",
      "\t\t log p_new:  -18320.21 \n",
      "\t\t accepted \n",
      "\t considering parent:  HypDistrib \n",
      "\t\t log p_new:  -18325.92 \n",
      "\t\t refused \n",
      "\t-> parents:  Grunting \n",
      "node:  LowerBodyO2 \n",
      "\t log p_old:  -49629.34 \n",
      "\t considering parent:  HypoxiaInO2 \n",
      "\t\t log p_new:  -46220.4 \n",
      "\t\t accepted \n",
      "\t considering parent:  HypDistrib \n",
      "\t\t log p_new:  -45481.84 \n",
      "\t\t accepted \n",
      "\t considering parent:  BirthAsphyxia \n",
      "\t\t log p_new:  -45511.69 \n",
      "\t\t refused \n",
      "\t-> parents:  HypoxiaInO2 HypDistrib \n",
      "node:  RUQO2 \n",
      "\t log p_old:  -50256.07 \n",
      "\t considering parent:  HypoxiaInO2 \n",
      "\t\t log p_new:  -45732.54 \n",
      "\t\t accepted \n",
      "\t considering parent:  HypDistrib \n",
      "\t\t log p_new:  -45750.98 \n",
      "\t\t refused \n",
      "\t-> parents:  HypoxiaInO2 \n",
      "node:  CO2Report \n",
      "\t log p_old:  -28486.29 \n",
      "\t considering parent:  CO2 \n",
      "\t\t log p_new:  -16145.28 \n",
      "\t\t accepted \n",
      "\t considering parent:  HypDistrib \n",
      "\t\t log p_new:  -16155.12 \n",
      "\t\t refused \n",
      "\t-> parents:  CO2 \n",
      "node:  XrayReport \n",
      "\t log p_old:  -76560.88 \n",
      "\t considering parent:  ChestXray \n",
      "\t\t log p_new:  -40607.91 \n",
      "\t\t accepted \n",
      "\t considering parent:  Grunting \n",
      "\t\t log p_new:  -40676.44 \n",
      "\t\t refused \n",
      "\t-> parents:  ChestXray \n",
      "K2 score:  -610272.8 \n"
     ]
    },
    {
     "data": {
      "image/png": "[encoded data removed]",
      "text/plain": [
       "plot without title"
      ]
     },
     "metadata": {
      "image/png": {
       "height": 420,
       "width": 420
      }
     },
     "output_type": "display_data"
    }
   ],
   "source": [
    "b_s_child = K2(child_df)"
   ]
  },
  {
   "cell_type": "markdown",
   "metadata": {},
   "source": [
    "## Ordering algorithms\n",
    "\n",
    "### Mutual Information "
   ]
  },
  {
   "cell_type": "code",
   "execution_count": 5,
   "metadata": {
    "vscode": {
     "languageId": "r"
    }
   },
   "outputs": [],
   "source": [
    "#install.packages('infotheo')\n",
    "library('infotheo')"
   ]
  },
  {
   "cell_type": "code",
   "execution_count": 3,
   "metadata": {
    "vscode": {
     "languageId": "r"
    }
   },
   "outputs": [],
   "source": [
    "MI_data <- function(x_index, y_index, dataset){\n",
    "    mutinformation(dataset[,x_index], dataset[,y_index])\n",
    "}"
   ]
  },
  {
   "cell_type": "code",
   "execution_count": 6,
   "metadata": {
    "vscode": {
     "languageId": "r"
    }
   },
   "outputs": [],
   "source": [
    "eq_df = read.csv(\"./earthquake.csv\")"
   ]
  },
  {
   "cell_type": "code",
   "execution_count": 7,
   "metadata": {
    "vscode": {
     "languageId": "r"
    }
   },
   "outputs": [],
   "source": [
    "eq_df = eq_df[, -1]"
   ]
  },
  {
   "cell_type": "code",
   "execution_count": 8,
   "metadata": {
    "vscode": {
     "languageId": "r"
    }
   },
   "outputs": [
    {
     "name": "stdout",
     "output_type": "stream",
     "text": [
      "          [,1]      [,2]      [,3]      [,4]      [,5]\n",
      "[1,] 0.1335085 0.1243115 0.2079881 0.3138768 0.1816933\n",
      "The final order is: 1 3 5 4 2"
     ]
    }
   ],
   "source": [
    "# initalize order (choose first variable) \n",
    "order_auto <- c(1)\n",
    "all_nodes <- seq(ncol(eq_df))\n",
    "\n",
    "# Compute matrix of mutual information\n",
    "#MI_matrix <- mapply(MI_data, all_nodes, all_nodes, MoreArgs=(list(data)))\n",
    "MI_matrix <- matrix(rep(0,length(all_nodes)**2), ncol=length(all_nodes))\n",
    "for(node in all_nodes){\n",
    "    MI_matrix[node,] <- sapply(all_nodes, MI_data, y_index=node, dataset=eq_df)\n",
    "}\n",
    "MI_sum <- matrix(rowSums(MI_matrix),nrow=1)\n",
    "print(MI_sum)\n",
    "\n",
    "# For each turn, add to `order` the node with max MI\n",
    "while (length(order_auto) != ncol(eq_df)) {\n",
    "    \n",
    "    # list all the nodes that haven't been ordered\n",
    "    node_list <- all_nodes[-order_auto]\n",
    "\n",
    "    # Compute MI values for these nodes and the last one in `order`\n",
    "    MI_values <- sapply(node_list, MI_data, y_index=tail(order_auto,1), dataset=eq_df)\n",
    "\n",
    "    # Find which node has the max MI and add it to `order`\n",
    "    best_node <- node_list[which.max(MI_values)]\n",
    "    order_auto <- c(order_auto, best_node)\n",
    "}\n",
    "\n",
    "# Print order\n",
    "cat('The final order is: ')\n",
    "cat(order_auto)"
   ]
  },
  {
   "cell_type": "markdown",
   "metadata": {},
   "source": [
    "### Sorder"
   ]
  },
  {
   "cell_type": "code",
   "execution_count": 61,
   "metadata": {
    "vscode": {
     "languageId": "r"
    }
   },
   "outputs": [
    {
     "data": {
      "text/html": [
       "<style>\n",
       ".list-inline {list-style: none; margin:0; padding: 0}\n",
       ".list-inline>li {display: inline-block}\n",
       ".list-inline>li:not(:last-child)::after {content: \"\\00b7\"; padding: 0 .5ex}\n",
       "</style>\n",
       "<ol class=list-inline><li>1</li><li>2</li><li>4</li><li>5</li><li>3</li></ol>\n"
      ],
      "text/latex": [
       "\\begin{enumerate*}\n",
       "\\item 1\n",
       "\\item 2\n",
       "\\item 4\n",
       "\\item 5\n",
       "\\item 3\n",
       "\\end{enumerate*}\n"
      ],
      "text/markdown": [
       "1. 1\n",
       "2. 2\n",
       "3. 4\n",
       "4. 5\n",
       "5. 3\n",
       "\n",
       "\n"
      ],
      "text/plain": [
       "[1] 1 2 4 5 3"
      ]
     },
     "metadata": {},
     "output_type": "display_data"
    }
   ],
   "source": [
    "# compute mi matrix\n",
    "mi_mat = mutinformation(eq_df)\n",
    "# compute max mi for each node\n",
    "mmi = vector()\n",
    "for(i in 1:dim(mi_mat)[1]){\n",
    "    mmi = c(mmi, max(mi_mat[i, -i]))\n",
    "}\n",
    "# compute UDN edges\n",
    "alpha = 0.9\n",
    "udn_edges = list()\n",
    "for(i in 1:dim(mi_mat)[1]){\n",
    "    udn_edges_i = vector()\n",
    "    for(j in 1:dim(mi_mat)[2]){\n",
    "        if(i==j) next\n",
    "        if(mi_mat[i,j]>=alpha*mmi[i] || mi_mat[i,j]>=alpha*mmi[j]){\n",
    "            udn_edges_i = c(udn_edges_i, j)\n",
    "        }\n",
    "    }\n",
    "    udn_edges = append(udn_edges, list(udn_edges_i))\n",
    "}\n",
    "# compute degrees for each node\n",
    "udn_deg = sapply(udn_edges, length)\n",
    "udn = data.frame(\n",
    "    degree = udn_deg,\n",
    "    node   = colnames(df),\n",
    "    order  = seq(1, length(udn_deg))\n",
    ")\n",
    "# create new order for nodes\n",
    "udn = udn[order(udn$degree, decreasing=TRUE),]\n",
    "s_order = udn$order\n",
    "s_order"
   ]
  },
  {
   "cell_type": "code",
   "execution_count": 73,
   "metadata": {
    "vscode": {
     "languageId": "r"
    }
   },
   "outputs": [],
   "source": [
    "################### SORDER algorithm ######################\n",
    "sorder = function(df){\n",
    "    # compute mi matrix\n",
    "    mi_mat = mutinformation(df)\n",
    "    # compute max mi for each node\n",
    "    mmi = vector()\n",
    "    for(i in 1:dim(mi_mat)[1]){\n",
    "        mmi = c(mmi, max(mi_mat[i, -i]))\n",
    "    }\n",
    "    # compute UDN edges\n",
    "    alpha = 0.9\n",
    "    udn_edges = list()\n",
    "    for(i in 1:dim(mi_mat)[1]){\n",
    "        udn_edges_i = vector()\n",
    "        for(j in 1:dim(mi_mat)[2]){\n",
    "            if(i==j) next\n",
    "            if(mi_mat[i,j]>=alpha*mmi[i] || mi_mat[i,j]>=alpha*mmi[j]){\n",
    "                udn_edges_i = c(udn_edges_i, j)\n",
    "            }\n",
    "        }\n",
    "        udn_edges = append(udn_edges, list(udn_edges_i))\n",
    "    }\n",
    "    # compute degrees for each node\n",
    "    udn_deg = sapply(udn_edges, length)\n",
    "    udn = data.frame(\n",
    "        degree = udn_deg,\n",
    "        node   = colnames(df),\n",
    "        order  = seq(1, length(udn_deg))\n",
    "    )\n",
    "    # create new order for nodes\n",
    "    udn = udn[order(udn$degree, decreasing=TRUE),]\n",
    "    s_order = udn$order\n",
    "    return(s_order)\n",
    "}"
   ]
  },
  {
   "cell_type": "code",
   "execution_count": 74,
   "metadata": {
    "vscode": {
     "languageId": "r"
    }
   },
   "outputs": [
    {
     "data": {
      "text/html": [
       "<style>\n",
       ".list-inline {list-style: none; margin:0; padding: 0}\n",
       ".list-inline>li {display: inline-block}\n",
       ".list-inline>li:not(:last-child)::after {content: \"\\00b7\"; padding: 0 .5ex}\n",
       "</style>\n",
       "<ol class=list-inline><li>'Alarm'</li><li>'Burglary'</li><li>'Earthquake'</li><li>'JohnCalls'</li><li>'MaryCalls'</li></ol>\n"
      ],
      "text/latex": [
       "\\begin{enumerate*}\n",
       "\\item 'Alarm'\n",
       "\\item 'Burglary'\n",
       "\\item 'Earthquake'\n",
       "\\item 'JohnCalls'\n",
       "\\item 'MaryCalls'\n",
       "\\end{enumerate*}\n"
      ],
      "text/markdown": [
       "1. 'Alarm'\n",
       "2. 'Burglary'\n",
       "3. 'Earthquake'\n",
       "4. 'JohnCalls'\n",
       "5. 'MaryCalls'\n",
       "\n",
       "\n"
      ],
      "text/plain": [
       "[1] \"Alarm\"      \"Burglary\"   \"Earthquake\" \"JohnCalls\"  \"MaryCalls\" "
      ]
     },
     "metadata": {},
     "output_type": "display_data"
    }
   ],
   "source": [
    "colnames(eq_df)[sorder(eq_df)]"
   ]
  },
  {
   "cell_type": "code",
   "execution_count": 65,
   "metadata": {
    "vscode": {
     "languageId": "r"
    }
   },
   "outputs": [
    {
     "data": {
      "text/html": [
       "<style>\n",
       ".list-inline {list-style: none; margin:0; padding: 0}\n",
       ".list-inline>li {display: inline-block}\n",
       ".list-inline>li:not(:last-child)::after {content: \"\\00b7\"; padding: 0 .5ex}\n",
       "</style>\n",
       "<ol class=list-inline><li>'Burglary'</li><li>'Earthquake'</li><li>'Alarm'</li><li>'JohnCalls'</li><li>'MaryCalls'</li></ol>\n"
      ],
      "text/latex": [
       "\\begin{enumerate*}\n",
       "\\item 'Burglary'\n",
       "\\item 'Earthquake'\n",
       "\\item 'Alarm'\n",
       "\\item 'JohnCalls'\n",
       "\\item 'MaryCalls'\n",
       "\\end{enumerate*}\n"
      ],
      "text/markdown": [
       "1. 'Burglary'\n",
       "2. 'Earthquake'\n",
       "3. 'Alarm'\n",
       "4. 'JohnCalls'\n",
       "5. 'MaryCalls'\n",
       "\n",
       "\n"
      ],
      "text/plain": [
       "[1] \"Burglary\"   \"Earthquake\" \"Alarm\"      \"JohnCalls\"  \"MaryCalls\" "
      ]
     },
     "metadata": {},
     "output_type": "display_data"
    }
   ],
   "source": [
    "colnames(eq_df)"
   ]
  },
  {
   "cell_type": "code",
   "execution_count": 75,
   "metadata": {
    "vscode": {
     "languageId": "r"
    }
   },
   "outputs": [
    {
     "name": "stdout",
     "output_type": "stream",
     "text": [
      "node:  Alarm \n",
      "\t log p_old:  -81856.62 \n",
      "\t-> parents:   \n",
      "node:  Burglary \n",
      "\t log p_old:  -55407.01 \n",
      "\t considering parent:  Alarm \n",
      "\t\t log p_new:  -16212.38 \n",
      "\t\t accepted \n",
      "\t-> parents:  Alarm \n",
      "node:  Earthquake \n",
      "\t log p_old:  -97992.58 \n",
      "\t considering parent:  Alarm \n",
      "\t\t log p_new:  -84102.82 \n",
      "\t\t accepted \n",
      "\t considering parent:  Burglary \n",
      "\t\t log p_new:  -77233.19 \n",
      "\t\t accepted \n",
      "\t-> parents:  Alarm Burglary \n",
      "node:  JohnCalls \n",
      "\t log p_old:  -237665 \n",
      "\t considering parent:  Alarm \n",
      "\t\t log p_new:  -201849.2 \n",
      "\t\t accepted \n",
      "\t considering parent:  Earthquake \n",
      "\t\t log p_new:  -201854.2 \n",
      "\t\t refused \n",
      "\t-> parents:  Alarm \n",
      "node:  MaryCalls \n",
      "\t log p_old:  -101706.2 \n",
      "\t considering parent:  Alarm \n",
      "\t\t log p_new:  -64487.94 \n",
      "\t\t accepted \n",
      "\t considering parent:  Burglary \n",
      "\t\t log p_new:  -64496.56 \n",
      "\t\t refused \n",
      "\t-> parents:  Alarm \n",
      "K2 score:  -441639.3 \n"
     ]
    },
    {
     "data": {
      "text/plain": [
       "\n",
       "  Random/Generated Bayesian network\n",
       "\n",
       "  model:\n",
       "   [Alarm][Burglary|Alarm][JohnCalls|Alarm][MaryCalls|Alarm]\n",
       "   [Earthquake|Alarm:Burglary]\n",
       "  nodes:                                 5 \n",
       "  arcs:                                  5 \n",
       "    undirected arcs:                     0 \n",
       "    directed arcs:                       5 \n",
       "  average markov blanket size:           2.00 \n",
       "  average neighbourhood size:            2.00 \n",
       "  average branching factor:              1.00 \n",
       "\n",
       "  generation algorithm:                  Empty \n"
      ]
     },
     "metadata": {},
     "output_type": "display_data"
    },
    {
     "data": {
      "image/png": "[encoded data removed]",
      "text/plain": [
       "plot without title"
      ]
     },
     "metadata": {
      "image/png": {
       "height": 420,
       "width": 420
      }
     },
     "output_type": "display_data"
    }
   ],
   "source": [
    "K2(eq_df[, sorder(eq_df)])"
   ]
  }
 ],
 "metadata": {
  "kernelspec": {
   "display_name": "R",
   "language": "R",
   "name": "ir"
  },
  "language_info": {
   "codemirror_mode": "r",
   "file_extension": ".r",
   "mimetype": "text/x-r-source",
   "name": "R",
   "pygments_lexer": "r",
   "version": "4.1.3"
  },
  "orig_nbformat": 4,
  "vscode": {
   "interpreter": {
    "hash": "31f2aee4e71d21fbe5cf8b01ff0e069b9275f58929596ceb00d14d90e3e16cd6"
   }
  }
 },
 "nbformat": 4,
 "nbformat_minor": 2
}
