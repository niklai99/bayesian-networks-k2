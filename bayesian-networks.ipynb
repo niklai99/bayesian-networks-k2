{
 "cells": [
  {
   "cell_type": "markdown",
   "source": "# Title\n\n## Group\n\n### Members",
   "metadata": {
    "cell_id": "d5a077d2abf34f339e3b7c9b4d3b6093",
    "tags": [],
    "deepnote_cell_type": "markdown",
    "deepnote_cell_height": 186
   }
  },
  {
   "cell_type": "markdown",
   "source": "\n1. K2 implementation\n2. test on easy dataset\n3. test using bnstruct\n4. test on different dataset\n    * ordering (?)\n    * missing values (?)\n    * hidden variables (?)",
   "metadata": {
    "cell_id": "55d6d596ee1c465b8d607c388166e753",
    "tags": [],
    "deepnote_cell_type": "markdown",
    "deepnote_cell_height": 221.796875
   }
  },
  {
   "cell_type": "markdown",
   "source": "## Dataset\n\nFictitious database",
   "metadata": {
    "cell_id": "ae3aeb5ba9a946fcadc71a252334e833",
    "tags": [],
    "deepnote_to_be_reexecuted": false,
    "source_hash": "6a5a07ce",
    "execution_start": 1656081722764,
    "execution_millis": 27,
    "deepnote_cell_type": "markdown",
    "deepnote_cell_height": 108.390625
   }
  },
  {
   "cell_type": "code",
   "metadata": {
    "cell_id": "db24f8377d514d88aed6089f8091efff",
    "tags": [],
    "deepnote_to_be_reexecuted": false,
    "source_hash": "fdd923bd",
    "execution_start": 1656089839584,
    "execution_millis": 42,
    "deepnote_cell_type": "code",
    "deepnote_cell_height": 117
   },
   "source": "library(rlang)\nlibrary(dplyr)\nlibrary(comprehenr)",
   "execution_count": null,
   "outputs": []
  },
  {
   "cell_type": "code",
   "metadata": {
    "cell_id": "edfe4e203974489c98d501b30b17a57e",
    "tags": [],
    "deepnote_to_be_reexecuted": false,
    "source_hash": "64fda081",
    "execution_start": 1656089833932,
    "execution_millis": 3031,
    "deepnote_cell_type": "code",
    "deepnote_cell_height": 188
   },
   "source": "#remove.packages(\"rlang\")\n#install.packages(\"rlang\")\ninstall.packages(\"comprehenr\")",
   "execution_count": null,
   "outputs": [
    {
     "name": "stderr",
     "text": "Installing package into ‘/work/.R/library’\n(as ‘lib’ is unspecified)\n\n",
     "output_type": "stream"
    }
   ]
  },
  {
   "cell_type": "code",
   "metadata": {
    "cell_id": "e1e931802c6548ab9e9349d6114d189d",
    "tags": [],
    "deepnote_to_be_reexecuted": false,
    "source_hash": "997266dd",
    "execution_start": 1656086012925,
    "execution_millis": 0,
    "deepnote_cell_type": "code",
    "deepnote_cell_height": 117
   },
   "source": "x1 = c(1,1,0,1,0,0,1,0,1,0)\nx2 = c(0,1,0,1,0,1,1,0,1,0)\nx3 = c(0,1,1,1,0,1,1,0,1,0)",
   "execution_count": null,
   "outputs": []
  },
  {
   "cell_type": "code",
   "metadata": {
    "cell_id": "6dd01109de7e45aa89fdcffaea8f09d5",
    "tags": [],
    "deepnote_to_be_reexecuted": false,
    "source_hash": "f9ab6d99",
    "execution_start": 1656086013814,
    "execution_millis": 8,
    "deepnote_cell_type": "code",
    "deepnote_cell_height": 81
   },
   "source": "df = data.frame(x1, x2, x3)",
   "execution_count": null,
   "outputs": []
  },
  {
   "cell_type": "code",
   "metadata": {
    "cell_id": "3e07eb9bbbe24b3abe8beb3c4dda6d6c",
    "tags": [],
    "deepnote_to_be_reexecuted": false,
    "source_hash": "6e898316",
    "execution_start": 1656086304891,
    "execution_millis": 13,
    "deepnote_cell_type": "code",
    "deepnote_cell_height": 99
   },
   "source": "inst = lapply(df, n_distinct)\nr    = c(inst$x1,inst$x2, inst$x3)",
   "execution_count": null,
   "outputs": []
  },
  {
   "cell_type": "code",
   "metadata": {
    "cell_id": "19d8f41bbad4465a9ccef422ac5db72b",
    "tags": [],
    "deepnote_to_be_reexecuted": false,
    "source_hash": "a35248b1",
    "execution_start": 1656086375373,
    "execution_millis": 60,
    "deepnote_cell_type": "code",
    "deepnote_cell_height": 334
   },
   "source": "expand.grid(unique(x1), unique(x2))",
   "execution_count": null,
   "outputs": [
    {
     "data": {
      "text/html": "<table class=\"dataframe\">\n<caption>A data.frame: 4 × 2</caption>\n<thead>\n\t<tr><th scope=col>Var1</th><th scope=col>Var2</th></tr>\n\t<tr><th scope=col>&lt;dbl&gt;</th><th scope=col>&lt;dbl&gt;</th></tr>\n</thead>\n<tbody>\n\t<tr><td>1</td><td>0</td></tr>\n\t<tr><td>0</td><td>0</td></tr>\n\t<tr><td>1</td><td>1</td></tr>\n\t<tr><td>0</td><td>1</td></tr>\n</tbody>\n</table>\n",
      "text/markdown": "\nA data.frame: 4 × 2\n\n| Var1 &lt;dbl&gt; | Var2 &lt;dbl&gt; |\n|---|---|\n| 1 | 0 |\n| 0 | 0 |\n| 1 | 1 |\n| 0 | 1 |\n\n",
      "text/latex": "A data.frame: 4 × 2\n\\begin{tabular}{ll}\n Var1 & Var2\\\\\n <dbl> & <dbl>\\\\\n\\hline\n\t 1 & 0\\\\\n\t 0 & 0\\\\\n\t 1 & 1\\\\\n\t 0 & 1\\\\\n\\end{tabular}\n",
      "text/plain": "  Var1 Var2\n1 1    0   \n2 0    0   \n3 1    1   \n4 0    1   "
     },
     "metadata": {},
     "output_type": "display_data"
    }
   ]
  },
  {
   "cell_type": "code",
   "metadata": {
    "cell_id": "cb4ffa9db6ad4394a50ec4f5c11c777c",
    "tags": [],
    "deepnote_cell_type": "code",
    "deepnote_cell_height": 84
   },
   "source": "# r list with number of instatiations per node\n# ordering",
   "execution_count": null,
   "outputs": []
  },
  {
   "cell_type": "markdown",
   "source": "### K2 algorithm\n\n![](k2.png \"K2 pseudocode\")",
   "metadata": {
    "cell_id": "5731725272894a38972dd243ebfa0efc",
    "tags": [],
    "deepnote_cell_type": "markdown",
    "deepnote_cell_height": 102
   }
  },
  {
   "cell_type": "code",
   "metadata": {
    "cell_id": "54a1ec5bb8ed4553ac6693dec1d7d951",
    "tags": [],
    "deepnote_cell_type": "code"
   },
   "source": "# number of nodes\nn = 3\n# upper bound on the number of parents\nu = 2\n\n# compute best new parent\nbest_new_parent = function(i, pi){\n    ### something\n    # take care of i = 1 \n}\n",
   "execution_count": null,
   "outputs": []
  },
  {
   "cell_type": "code",
   "metadata": {
    "cell_id": "728f9bc73d2c49f0adcd5ea6c983ab1f",
    "tags": [],
    "deepnote_to_be_reexecuted": false,
    "source_hash": "715d51d7",
    "execution_start": 1656091418578,
    "execution_millis": 30,
    "deepnote_cell_type": "code"
   },
   "source": "log_f_i_ = function(alpha, r_i){\n    N_i_ = sum(alpha)\n    return(\n            sum(sapply(1:(r_i-1),log))- \n            sum(sapply(1:(N_i_+r_i-1),log)) + \n            sum(sapply(alpha, function(a_k){sum(sapply(1:(a_k),log))}))\n    )\n}\nlog_f_ij = function(alpha, r_i, q_i){\n    N_ij = sum(alpha)\n    return(\n            sum(sapply(1:(r_i-1),log))- \n            sum(sapply(1:(N_ij+r_i-1),log)) + \n            sum(sapply(alpha, function(a_k){sum(sapply(1:(a_k),log))}))\n    )\n}\n  else{ \n        D2 <- cbind(D[i],D[pi])\n        alpha <- table(D2)\n        if (length(dim(alpha))>2){dim(alpha)=c(r,length(alpha)/r)}\n        alpha <- t(alpha)\n        N.j <- rowSums(alpha)\n        M.j <- apply(apply(alpha,c(1,2),function(a) ifelse(a==0,0,sum(sapply(1:a,log)))),1,sum)\n        prob <- (sum(apply(cbind(N.j,M.j),1, function(x) sum(sapply(1:(r-1),log))-sum(sapply(1:(x[1]+r-1),log))+x[2])))\n        }\n        prob",
   "execution_count": null,
   "outputs": []
  },
  {
   "cell_type": "code",
   "metadata": {
    "cell_id": "a3a38073d37e4f36afd23a8220bde6c0",
    "tags": [],
    "deepnote_to_be_reexecuted": false,
    "source_hash": "5bb587d",
    "execution_start": 1656092553028,
    "execution_millis": 18,
    "deepnote_cell_type": "code"
   },
   "source": "table(df[c(1,2,3)])",
   "execution_count": null,
   "outputs": [
    {
     "data": {
      "text/plain": "   x2\nx1  0 1\n  0 4 1\n  1 1 4"
     },
     "metadata": {},
     "output_type": "display_data"
    }
   ]
  },
  {
   "cell_type": "code",
   "metadata": {
    "cell_id": "4d4a264ed6e040389ebf5227d0617e2e",
    "tags": [],
    "deepnote_cell_type": "code",
    "deepnote_cell_height": 282
   },
   "source": "# compute eq 20 (log)\nlog_f = function(i, parents, r, df){\n    # take care of i = 1\n    if(length(parents[i])==0){\n        alpha = to_vec(for(x in unique(df[[i]]) length(which(df[[i]] == x))))\n        return log_f_ij(alpha, r[i])\n    }else{\n        \n\n    }\n    r_i = r[i]\n\n}",
   "execution_count": null,
   "outputs": []
  },
  {
   "cell_type": "code",
   "metadata": {
    "cell_id": "f9e1adf33e994832bd45dc29a6db3f42",
    "tags": [],
    "owner_user_id": "9d3d3ba1-7cf1-42b0-855e-b18dd2965f4e",
    "deepnote_cell_type": "code",
    "deepnote_cell_height": 336
   },
   "source": "# high level implementation\nfor (i in 1:n){\n    parents[i]    = vector()\n    p_old = log_f(i, parents[i]) # compute equation 20\n    ok_to_proceed = TRUE\n    while (ok_to_proceed && lenght(parents_i)<u){\n        z = best_new_parent(i, parents_i)\n        p_new = log_f(i, c(parents_i, z))\n        if (p_new>p_old){\n            p_old = p_new\n            parents_i = c(parents_i, z)\n        }else{\n            ok_to_proceed = FALSE\n        }\n    }\n}",
   "execution_count": null,
   "outputs": []
  },
  {
   "cell_type": "markdown",
   "source": "<a style='text-decoration:none;line-height:16px;display:flex;color:#5B5B62;padding:10px;justify-content:end;' href='https://deepnote.com?utm_source=created-in-deepnote-cell&projectId=b9007301-4f1f-446d-badb-668e7aa722f2' target=\"_blank\">\n<img alt='Created in deepnote.com' style='display:inline;max-height:16px;margin:0px;margin-right:7.5px;' src='data:image/svg+xml;base64,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' > </img>\nCreated in <span style='font-weight:600;margin-left:4px;'>Deepnote</span></a>",
   "metadata": {
    "tags": [],
    "created_in_deepnote_cell": true,
    "deepnote_cell_type": "markdown"
   }
  }
 ],
 "nbformat": 4,
 "nbformat_minor": 2,
 "metadata": {
  "orig_nbformat": 2,
  "deepnote": {},
  "deepnote_notebook_id": "ec826b33-ee93-4a77-809a-5f439e11e824",
  "deepnote_execution_queue": []
 }
}